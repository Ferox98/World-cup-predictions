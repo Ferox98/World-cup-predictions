{
 "cells": [
  {
   "cell_type": "code",
   "execution_count": 9,
   "id": "b2f7047e",
   "metadata": {},
   "outputs": [],
   "source": [
    "import pandas as pd\n",
    "from sklearn.svm import SVC\n",
    "from sklearn.naive_bayes import GaussianNB\n",
    "from xgboost import XGBClassifier \n",
    "from sklearn.model_selection import GridSearchCV\n",
    "from sklearn.model_selection import train_test_split\n",
    "from sklearn.preprocessing import MinMaxScaler\n",
    "from sklearn.metrics import accuracy_score"
   ]
  },
  {
   "cell_type": "code",
   "execution_count": 10,
   "id": "f758c07b",
   "metadata": {},
   "outputs": [],
   "source": [
    "matches_df = pd.read_csv('data_selected.csv')\n",
    "y = matches_df.loc[:, 'label']\n",
    "X = matches_df.drop('label', axis=1)\n",
    "scaler = MinMaxScaler()\n",
    "X = scaler.fit_transform(X)\n",
    "y.replace({-1:2,1:1,0:0},inplace=True)\n",
    "X_train, X_test, y_train, y_test = train_test_split(X,y, test_size=0.2,random_state=0, stratify=y)"
   ]
  },
  {
   "cell_type": "code",
   "execution_count": null,
   "id": "8e954ccc",
   "metadata": {},
   "outputs": [],
   "source": [
    "model_svc = SVC()\n",
    "param_svc = {'C': [0.1, 1, 10, 100, 1000], \n",
    "             'gamma': [1, 0.1, 0.01, 0.001, 0.0001],\n",
    "             'kernel': ['rbf', 'polynomial'],\n",
    "             'degree': [2, 3, 4]\n",
    "             } \n",
    "\n",
    "model_grid_svm = GridSearchCV(model_svc,param_svc, n_jobs=-1)\n",
    "model_grid_svm.fit(X_train, y_train)\n",
    "model_grid.cv_results_"
   ]
  },
  {
   "cell_type": "code",
   "execution_count": null,
   "id": "a453f24e",
   "metadata": {},
   "outputs": [],
   "source": [
    "model_grid.best_estimator_"
   ]
  },
  {
   "cell_type": "code",
   "execution_count": null,
   "id": "51ebd546",
   "metadata": {},
   "outputs": [],
   "source": []
  }
 ],
 "metadata": {
  "kernelspec": {
   "display_name": "Python 3 (ipykernel)",
   "language": "python",
   "name": "python3"
  },
  "language_info": {
   "codemirror_mode": {
    "name": "ipython",
    "version": 3
   },
   "file_extension": ".py",
   "mimetype": "text/x-python",
   "name": "python",
   "nbconvert_exporter": "python",
   "pygments_lexer": "ipython3",
   "version": "3.10.6"
  }
 },
 "nbformat": 4,
 "nbformat_minor": 5
}
