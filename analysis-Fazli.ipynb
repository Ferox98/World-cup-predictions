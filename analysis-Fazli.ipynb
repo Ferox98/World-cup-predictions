{
 "cells": [
  {
   "cell_type": "code",
   "execution_count": 1,
   "id": "76bd8971",
   "metadata": {},
   "outputs": [],
   "source": [
    "import pandas as pd\n",
    "import sqlite3\n",
    "import numpy as np\n",
    "\n",
    "# Read sqlite query results into a pandas DataFrame\n",
    "con = sqlite3.connect(\"C:/Users/user/Downloads/MBZUAI/AI701/AI project/database.sqlite\")\n",
    "df_match = pd.read_sql_query(\"SELECT * from Match\", con)\n",
    "df_country = pd.read_sql_query(\"SELECT * from Country\", con)\n",
    "df_league = pd.read_sql_query(\"SELECT * from League\", con)\n",
    "df_player = pd.read_sql_query(\"SELECT * from Player\", con)\n",
    "df_team = pd.read_sql_query(\"SELECT * from Team\", con)\n",
    "df_team_attributes = pd.read_sql_query(\"SELECT * from Team_Attributes\", con)\n",
    "df_player_attributes = pd.read_sql_query(\"SELECT * from Player_Attributes\", con)\n",
    "\n",
    "con.close()"
   ]
  },
  {
   "cell_type": "code",
   "execution_count": 2,
   "id": "fddcb8ed",
   "metadata": {},
   "outputs": [],
   "source": [
    "def update_season(date):   \n",
    "    date = pd.to_datetime(date)\n",
    "    season = ''\n",
    "    if pd.to_datetime('2008-07-01') <= date <= pd.to_datetime('2009-06-30'):\n",
    "        season = '2008/2009'\n",
    "        \n",
    "    elif pd.to_datetime('2009-07-01') <= date <= pd.to_datetime('2010-06-30'):\n",
    "        season = '2009/2010'\n",
    "\n",
    "    elif pd.to_datetime('2010-07-01') <= date <= pd.to_datetime('2011-06-30'):\n",
    "        season = '2010/2011'\n",
    "    \n",
    "    elif pd.to_datetime('2011-07-01') <= date <= pd.to_datetime('2012-06-30'):\n",
    "        season = '2011/2012'\n",
    "    \n",
    "    elif pd.to_datetime('2012-07-01') <= date <= pd.to_datetime('2013-06-30'):\n",
    "        season = '2012/2013'\n",
    "    \n",
    "    elif pd.to_datetime('2013-07-01') <= date <= pd.to_datetime('2014-06-30'):\n",
    "        season = '2013/2014'\n",
    "    \n",
    "    elif pd.to_datetime('2014-07-01') <= date <= pd.to_datetime('2015-06-30'):\n",
    "        season = '2014/2015'\n",
    "    \n",
    "    elif pd.to_datetime('2015-07-01') <= date <= pd.to_datetime('2016-06-30'):\n",
    "        season = '2015/2016' \n",
    "    \n",
    "    return season"
   ]
  },
  {
   "cell_type": "code",
   "execution_count": 3,
   "id": "cd0c5a6f",
   "metadata": {},
   "outputs": [],
   "source": [
    "df_team_attributes['season_new'] = df_team_attributes['date'].map(update_season)"
   ]
  },
  {
   "cell_type": "code",
   "execution_count": 4,
   "id": "3488c11c",
   "metadata": {},
   "outputs": [],
   "source": [
    "df_match = df_match.merge(df_team_attributes, left_on=['home_team_api_id','season'], right_on = ['team_api_id','season_new'], how='left')\n",
    "df_match = df_match.merge(df_team_attributes, left_on=['away_team_api_id','season'], right_on = ['team_api_id','season_new'], how='left')"
   ]
  },
  {
   "cell_type": "code",
   "execution_count": 5,
   "id": "a06f3193",
   "metadata": {},
   "outputs": [],
   "source": [
    "df_player_attributes['season_new'] = df_player_attributes['date'].map(update_season)"
   ]
  },
  {
   "cell_type": "code",
   "execution_count": 6,
   "id": "dc799334",
   "metadata": {},
   "outputs": [],
   "source": [
    "df_match['label'] = (df_match['home_team_goal']-df_match['away_team_goal']).apply(np.sign)"
   ]
  },
  {
   "cell_type": "code",
   "execution_count": 7,
   "id": "59ff4795",
   "metadata": {},
   "outputs": [
    {
     "name": "stdout",
     "output_type": "stream",
     "text": [
      "(25979, 168)\n",
      "(25979, 144)\n"
     ]
    }
   ],
   "source": [
    "print (df_match.shape)\n",
    "df_match = df_match[df_match.columns.drop(list(df_match.filter(regex='Class')))]\n",
    "print (df_match.shape)\n",
    "\n",
    "df_match.fillna(value=0,inplace=True)\n",
    "\n",
    "\n",
    "df_match.drop(['season_new_x'],inplace=True,axis=1)\n",
    "df_match.drop(['season_new_y'],inplace=True,axis=1)\n",
    "df_match.drop(['season'],inplace=True,axis=1)\n",
    "\n",
    "df_match.drop(['home_team_goal','away_team_goal','goal','date','shoton','shotoff','foulcommit','card','cross','corner','possession'],inplace=True,axis=1)\n",
    "df_match.drop(['date_x','date_y'],inplace=True,axis=1)\n"
   ]
  },
  {
   "cell_type": "code",
   "execution_count": 8,
   "id": "0db4fc02",
   "metadata": {},
   "outputs": [],
   "source": [
    "X = df_match.iloc[:,:-1]\n",
    "y = df_match.iloc[:,-1]"
   ]
  },
  {
   "cell_type": "code",
   "execution_count": 13,
   "id": "883f2ee9",
   "metadata": {},
   "outputs": [],
   "source": [
    "from sklearn.model_selection import train_test_split\n",
    "\n",
    "X_train, X_test, y_train, y_test = train_test_split(X,y, test_size=0.2,random_state=0)"
   ]
  },
  {
   "cell_type": "code",
   "execution_count": 14,
   "id": "c7a46025",
   "metadata": {},
   "outputs": [
    {
     "data": {
      "text/plain": [
       "0.42282525019245576"
      ]
     },
     "execution_count": 14,
     "metadata": {},
     "output_type": "execute_result"
    }
   ],
   "source": [
    "from sklearn.tree import DecisionTreeClassifier\n",
    "from sklearn.metrics import accuracy_score\n",
    "\n",
    "model = DecisionTreeClassifier(random_state=0)\n",
    "\n",
    "model.fit(X_train,y_train)\n",
    "\n",
    "y_pred = model.predict(X_test)\n",
    "\n",
    "accuracy_score(y_pred,y_test)"
   ]
  },
  {
   "cell_type": "code",
   "execution_count": null,
   "id": "9828d0b9",
   "metadata": {},
   "outputs": [],
   "source": []
  }
 ],
 "metadata": {
  "kernelspec": {
   "display_name": "Python 3 (ipykernel)",
   "language": "python",
   "name": "python3"
  },
  "language_info": {
   "codemirror_mode": {
    "name": "ipython",
    "version": 3
   },
   "file_extension": ".py",
   "mimetype": "text/x-python",
   "name": "python",
   "nbconvert_exporter": "python",
   "pygments_lexer": "ipython3",
   "version": "3.8.8"
  }
 },
 "nbformat": 4,
 "nbformat_minor": 5
}
